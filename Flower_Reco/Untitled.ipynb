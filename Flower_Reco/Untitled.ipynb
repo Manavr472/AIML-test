{
 "cells": [
  {
   "cell_type": "code",
   "execution_count": 1,
   "id": "01ae1d9a",
   "metadata": {},
   "outputs": [],
   "source": [
    "import numpy as np\n",
    "import tensorflow as tf\n",
    "from keras.preprocessing.image import ImageDataGenerator\n"
   ]
  },
  {
   "cell_type": "code",
   "execution_count": 2,
   "id": "2d8ba9d0",
   "metadata": {},
   "outputs": [
    {
     "name": "stdout",
     "output_type": "stream",
     "text": [
      "Found 4317 images belonging to 5 classes.\n"
     ]
    }
   ],
   "source": [
    "train_datagen = ImageDataGenerator(\n",
    "        rescale=1./255,\n",
    "        shear_range=0.2,\n",
    "        zoom_range=0.2,\n",
    "        horizontal_flip=True)\n",
    "training_set = train_datagen.flow_from_directory(\n",
    "        'tranee_set',\n",
    "        target_size=(64, 64),\n",
    "        batch_size=32,\n",
    "        class_mode='categorical')"
   ]
  },
  {
   "cell_type": "code",
   "execution_count": 3,
   "id": "ffe101b7",
   "metadata": {},
   "outputs": [
    {
     "name": "stdout",
     "output_type": "stream",
     "text": [
      "Found 4797 images belonging to 5 classes.\n"
     ]
    }
   ],
   "source": [
    "test_datagen = ImageDataGenerator(rescale=1./255)\n",
    "test_set = test_datagen.flow_from_directory(\n",
    "        'test_set',\n",
    "        target_size=(64, 64),\n",
    "        batch_size=32,\n",
    "        class_mode='categorical')"
   ]
  },
  {
   "cell_type": "code",
   "execution_count": 4,
   "id": "727d911d",
   "metadata": {},
   "outputs": [],
   "source": [
    "cnn = tf.keras.models.Sequential()"
   ]
  },
  {
   "cell_type": "code",
   "execution_count": 5,
   "id": "ad391e12",
   "metadata": {},
   "outputs": [],
   "source": [
    "cnn.add(tf.keras.layers.Conv2D(filters=64 , kernel_size=3 , activation='relu' , input_shape=[64,64,3]))\n",
    "cnn.add(tf.keras.layers.MaxPool2D(pool_size=2,strides=2))"
   ]
  },
  {
   "cell_type": "code",
   "execution_count": 6,
   "id": "af49e424",
   "metadata": {},
   "outputs": [],
   "source": [
    "cnn.add(tf.keras.layers.Conv2D(filters=64 , kernel_size=3 , activation='relu' ))\n",
    "cnn.add(tf.keras.layers.MaxPool2D(pool_size=2 , strides=2))"
   ]
  },
  {
   "cell_type": "code",
   "execution_count": 7,
   "id": "502a3a95",
   "metadata": {},
   "outputs": [],
   "source": [
    "cnn.add(tf.keras.layers.Dropout(0.5))"
   ]
  },
  {
   "cell_type": "code",
   "execution_count": 8,
   "id": "d9774a12",
   "metadata": {},
   "outputs": [],
   "source": [
    "cnn.add(tf.keras.layers.Flatten())"
   ]
  },
  {
   "cell_type": "code",
   "execution_count": 9,
   "id": "a45f6c86",
   "metadata": {},
   "outputs": [],
   "source": [
    "cnn.add(tf.keras.layers.Dense(units=128, activation='relu'))"
   ]
  },
  {
   "cell_type": "code",
   "execution_count": 10,
   "id": "8e41845a",
   "metadata": {},
   "outputs": [],
   "source": [
    "cnn.add(tf.keras.layers.Dense(units=5 , activation='softmax'))"
   ]
  },
  {
   "cell_type": "code",
   "execution_count": 11,
   "id": "fa22857b",
   "metadata": {},
   "outputs": [],
   "source": [
    "cnn.compile(optimizer = 'rmsprop' , loss = 'categorical_crossentropy' , metrics = ['accuracy'])"
   ]
  },
  {
   "cell_type": "code",
   "execution_count": 12,
   "id": "4486e52b",
   "metadata": {},
   "outputs": [
    {
     "name": "stdout",
     "output_type": "stream",
     "text": [
      "Epoch 1/20\n",
      "135/135 [==============================] - 48s 350ms/step - loss: 1.2952 - accuracy: 0.4496 - val_loss: 1.0927 - val_accuracy: 0.5777\n",
      "Epoch 2/20\n",
      "135/135 [==============================] - 48s 353ms/step - loss: 1.0850 - accuracy: 0.5724 - val_loss: 0.9360 - val_accuracy: 0.6358\n",
      "Epoch 3/20\n",
      "135/135 [==============================] - 49s 364ms/step - loss: 0.9708 - accuracy: 0.6245 - val_loss: 0.8667 - val_accuracy: 0.6729\n",
      "Epoch 4/20\n",
      "135/135 [==============================] - 44s 330ms/step - loss: 0.8993 - accuracy: 0.6507 - val_loss: 0.7962 - val_accuracy: 0.6990\n",
      "Epoch 5/20\n",
      "135/135 [==============================] - 52s 384ms/step - loss: 0.8536 - accuracy: 0.6699 - val_loss: 0.8561 - val_accuracy: 0.6656\n",
      "Epoch 6/20\n",
      "135/135 [==============================] - 52s 385ms/step - loss: 0.8057 - accuracy: 0.6850 - val_loss: 0.7205 - val_accuracy: 0.7263\n",
      "Epoch 7/20\n",
      "135/135 [==============================] - 49s 360ms/step - loss: 0.7666 - accuracy: 0.7084 - val_loss: 0.7581 - val_accuracy: 0.7038\n",
      "Epoch 8/20\n",
      "135/135 [==============================] - 54s 402ms/step - loss: 0.7316 - accuracy: 0.7179 - val_loss: 0.6673 - val_accuracy: 0.7359\n",
      "Epoch 9/20\n",
      "135/135 [==============================] - 51s 377ms/step - loss: 0.7172 - accuracy: 0.7306 - val_loss: 0.6656 - val_accuracy: 0.7534\n",
      "Epoch 10/20\n",
      "135/135 [==============================] - 51s 381ms/step - loss: 0.6711 - accuracy: 0.7431 - val_loss: 0.7287 - val_accuracy: 0.7213\n",
      "Epoch 11/20\n",
      "135/135 [==============================] - 51s 381ms/step - loss: 0.6410 - accuracy: 0.7586 - val_loss: 0.5311 - val_accuracy: 0.7886\n",
      "Epoch 12/20\n",
      "135/135 [==============================] - 46s 338ms/step - loss: 0.6299 - accuracy: 0.7593 - val_loss: 0.4751 - val_accuracy: 0.8230\n",
      "Epoch 13/20\n",
      "135/135 [==============================] - 47s 345ms/step - loss: 0.5990 - accuracy: 0.7744 - val_loss: 0.4935 - val_accuracy: 0.8178\n",
      "Epoch 14/20\n",
      "135/135 [==============================] - 46s 338ms/step - loss: 0.5963 - accuracy: 0.7774 - val_loss: 0.4464 - val_accuracy: 0.8434\n",
      "Epoch 15/20\n",
      "135/135 [==============================] - 44s 327ms/step - loss: 0.5636 - accuracy: 0.7890 - val_loss: 0.4279 - val_accuracy: 0.8447\n",
      "Epoch 16/20\n",
      "135/135 [==============================] - 41s 305ms/step - loss: 0.5408 - accuracy: 0.7996 - val_loss: 0.4605 - val_accuracy: 0.8353\n",
      "Epoch 17/20\n",
      "135/135 [==============================] - 41s 307ms/step - loss: 0.5309 - accuracy: 0.8022 - val_loss: 0.3491 - val_accuracy: 0.8768\n",
      "Epoch 18/20\n",
      "135/135 [==============================] - 42s 312ms/step - loss: 0.5011 - accuracy: 0.8149 - val_loss: 0.3600 - val_accuracy: 0.8683\n",
      "Epoch 19/20\n",
      "135/135 [==============================] - 42s 314ms/step - loss: 0.4764 - accuracy: 0.8242 - val_loss: 0.3317 - val_accuracy: 0.8808\n",
      "Epoch 20/20\n",
      "135/135 [==============================] - 42s 309ms/step - loss: 0.4678 - accuracy: 0.8242 - val_loss: 0.3495 - val_accuracy: 0.8753\n"
     ]
    },
    {
     "data": {
      "text/plain": [
       "<keras.src.callbacks.History at 0x230e1485510>"
      ]
     },
     "execution_count": 12,
     "metadata": {},
     "output_type": "execute_result"
    }
   ],
   "source": [
    "cnn.fit(x = training_set , validation_data = test_set , epochs = 20)"
   ]
  },
  {
   "cell_type": "code",
   "execution_count": 20,
   "id": "2028c4a3",
   "metadata": {},
   "outputs": [
    {
     "name": "stdout",
     "output_type": "stream",
     "text": [
      "1/1 [==============================] - 0s 23ms/step\n"
     ]
    }
   ],
   "source": [
    "from keras.preprocessing import image\n",
    "test_image = image.load_img('Prediction/s.jpg',target_size=(64,64))\n",
    "test_image = image.img_to_array(test_image)\n",
    "test_image = np.expand_dims(test_image,axis=0)\n",
    "result = cnn.predict(test_image)"
   ]
  },
  {
   "cell_type": "code",
   "execution_count": 21,
   "id": "34253f97",
   "metadata": {},
   "outputs": [
    {
     "data": {
      "text/plain": [
       "{'daisy': 0, 'dandelion': 1, 'rose': 2, 'sunflower': 3, 'tulip': 4}"
      ]
     },
     "execution_count": 21,
     "metadata": {},
     "output_type": "execute_result"
    }
   ],
   "source": [
    "training_set.class_indices"
   ]
  },
  {
   "cell_type": "code",
   "execution_count": 22,
   "id": "0b677d19",
   "metadata": {},
   "outputs": [
    {
     "name": "stdout",
     "output_type": "stream",
     "text": [
      "[[0. 0. 0. 1. 0.]]\n"
     ]
    }
   ],
   "source": [
    "print(result)"
   ]
  },
  {
   "cell_type": "code",
   "execution_count": 23,
   "id": "14df80c1",
   "metadata": {},
   "outputs": [
    {
     "name": "stdout",
     "output_type": "stream",
     "text": [
      "SunFlower\n"
     ]
    }
   ],
   "source": [
    "if result[0][0]==1:\n",
    "    print('Daisy')\n",
    "elif result[0][1]==1:\n",
    "    print('Dandelion')\n",
    "elif result[0][2]==1:\n",
    "    print('Rose')\n",
    "elif result[0][3]==1:\n",
    "    print('SunFlower')\n",
    "elif result[0][4]==1:\n",
    "    print(\"Tulip\")"
   ]
  },
  {
   "cell_type": "code",
   "execution_count": 18,
   "id": "12b2b802",
   "metadata": {},
   "outputs": [
    {
     "name": "stdout",
     "output_type": "stream",
     "text": [
      "[[1. 0. 0. 0. 0.]]\n"
     ]
    }
   ],
   "source": [
    "print(result)"
   ]
  },
  {
   "cell_type": "code",
   "execution_count": null,
   "id": "9218fe83",
   "metadata": {},
   "outputs": [],
   "source": []
  }
 ],
 "metadata": {
  "kernelspec": {
   "display_name": "Python 3 (ipykernel)",
   "language": "python",
   "name": "python3"
  },
  "language_info": {
   "codemirror_mode": {
    "name": "ipython",
    "version": 3
   },
   "file_extension": ".py",
   "mimetype": "text/x-python",
   "name": "python",
   "nbconvert_exporter": "python",
   "pygments_lexer": "ipython3",
   "version": "3.11.3"
  }
 },
 "nbformat": 4,
 "nbformat_minor": 5
}

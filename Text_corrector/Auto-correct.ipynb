{
 "cells": [
  {
   "cell_type": "code",
   "execution_count": 4,
   "id": "4a132b45",
   "metadata": {},
   "outputs": [],
   "source": [
    "import re\n",
    "import string\n",
    "from collections import Counter\n",
    "import numpy as np"
   ]
  },
  {
   "cell_type": "code",
   "execution_count": 5,
   "id": "30cbe822",
   "metadata": {},
   "outputs": [],
   "source": [
    "class SpellChecker(object):\n",
    "\n",
    "  def __init__(self, corpus_file_path):\n",
    "    with open(corpus_file_path, \"r\" ,encoding=\"utf-8\") as file:\n",
    "      lines = file.readlines()\n",
    "      words = []\n",
    "      for line in lines:\n",
    "        words += re.findall(r'\\w+', line.lower())\n",
    "\n",
    "    self.vocabs = set(words)\n",
    "    self.word_counts = Counter(words)\n",
    "    total_words = float(sum(self.word_counts.values()))\n",
    "    self.word_probas = {word: self.word_counts[word] / total_words for word in self.vocabs}\n",
    "\n",
    "  def _level_one_edits(self, word):\n",
    "    letters = string.ascii_lowercase\n",
    "    splits = [(word[:i], word[i:]) for i in range(len(word) + 1)]\n",
    "    deletes = [l + r[1:] for l,r in splits if r]\n",
    "    swaps = [l + r[1] + r[0] + r[2:] for l, r in splits if len(r)>1]\n",
    "    replaces = [l + c + r[1:] for l, r in splits if r for c in letters]\n",
    "    inserts = [l + c + r for l, r in splits for c in letters] \n",
    "\n",
    "    return set(deletes + swaps + replaces + inserts)\n",
    "\n",
    "  def _level_two_edits(self, word):\n",
    "    return set(e2 for e1 in self._level_one_edits(word) for e2 in self._level_one_edits(e1))\n",
    "\n",
    "  def check(self, word):\n",
    "    candidates = self._level_one_edits(word) or self._level_two_edits(word) or [word]\n",
    "    valid_candidates = [w for w in candidates if w in self.vocabs]\n",
    "    return sorted([(c, self.word_probas[c]) for c in valid_candidates], key=lambda tup: tup[1], reverse=True)"
   ]
  },
  {
   "cell_type": "code",
   "execution_count": 6,
   "id": "c0049896",
   "metadata": {},
   "outputs": [],
   "source": [
    "checker = SpellChecker(\"./english3.txt\")"
   ]
  },
  {
   "cell_type": "code",
   "execution_count": 7,
   "id": "5ceb9a6b",
   "metadata": {},
   "outputs": [
    {
     "data": {
      "text/plain": [
       "[('hara', 5.141784713474047e-06),\n",
       " ('aha', 5.141784713474047e-06),\n",
       " ('taha', 5.141784713474047e-06),\n",
       " ('haka', 5.141784713474047e-06),\n",
       " ('hahs', 5.141784713474047e-06),\n",
       " ('hatha', 5.141784713474047e-06),\n",
       " ('hah', 5.141784713474047e-06)]"
      ]
     },
     "execution_count": 7,
     "metadata": {},
     "output_type": "execute_result"
    }
   ],
   "source": [
    "checker.check(\"haha\")"
   ]
  },
  {
   "cell_type": "code",
   "execution_count": 9,
   "id": "26d3a7a4",
   "metadata": {},
   "outputs": [
    {
     "data": {
      "text/plain": [
       "[('checkmate', 5.141784713474047e-06)]"
      ]
     },
     "execution_count": 9,
     "metadata": {},
     "output_type": "execute_result"
    }
   ],
   "source": [
    "checker.check(\"chevkmate\")"
   ]
  },
  {
   "cell_type": "code",
   "execution_count": 10,
   "id": "d3e49cc0",
   "metadata": {},
   "outputs": [
    {
     "data": {
      "text/plain": [
       "[('hide', 5.141784713474047e-06),\n",
       " ('hade', 5.141784713474047e-06),\n",
       " ('hyde', 5.141784713474047e-06)]"
      ]
     },
     "execution_count": 10,
     "metadata": {},
     "output_type": "execute_result"
    }
   ],
   "source": [
    "checker.check(\"hgde\")"
   ]
  }
 ],
 "metadata": {
  "kernelspec": {
   "display_name": "Python 3 (ipykernel)",
   "language": "python",
   "name": "python3"
  },
  "language_info": {
   "codemirror_mode": {
    "name": "ipython",
    "version": 3
   },
   "file_extension": ".py",
   "mimetype": "text/x-python",
   "name": "python",
   "nbconvert_exporter": "python",
   "pygments_lexer": "ipython3",
   "version": "3.11.4"
  }
 },
 "nbformat": 4,
 "nbformat_minor": 5
}
